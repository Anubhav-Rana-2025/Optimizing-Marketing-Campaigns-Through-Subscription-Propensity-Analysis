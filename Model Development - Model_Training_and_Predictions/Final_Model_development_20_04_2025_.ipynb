{
 "cells": [
  {
   "cell_type": "code",
   "execution_count": 37,
   "metadata": {
    "colab": {
     "base_uri": "https://localhost:8080/"
    },
    "id": "FhPlOY0l3RjX",
    "outputId": "c1e6911d-cccb-4fc0-82e6-97c98a165d59",
    "tags": []
   },
   "outputs": [
    {
     "name": "stdout",
     "output_type": "stream",
     "text": [
      "Requirement already satisfied: imblearn in /opt/conda/lib/python3.10/site-packages (0.0)\n",
      "Requirement already satisfied: imbalanced-learn in /opt/conda/lib/python3.10/site-packages (from imblearn) (0.13.0)\n",
      "Requirement already satisfied: numpy<3,>=1.24.3 in /opt/conda/lib/python3.10/site-packages (from imbalanced-learn->imblearn) (2.1.3)\n",
      "Requirement already satisfied: scipy<2,>=1.10.1 in /opt/conda/lib/python3.10/site-packages (from imbalanced-learn->imblearn) (1.15.2)\n",
      "Requirement already satisfied: scikit-learn<2,>=1.3.2 in /opt/conda/lib/python3.10/site-packages (from imbalanced-learn->imblearn) (1.6.1)\n",
      "Requirement already satisfied: sklearn-compat<1,>=0.1 in /opt/conda/lib/python3.10/site-packages (from imbalanced-learn->imblearn) (0.1.3)\n",
      "Requirement already satisfied: joblib<2,>=1.1.1 in /opt/conda/lib/python3.10/site-packages (from imbalanced-learn->imblearn) (1.4.2)\n",
      "Requirement already satisfied: threadpoolctl<4,>=2.0.0 in /opt/conda/lib/python3.10/site-packages (from imbalanced-learn->imblearn) (3.6.0)\n"
     ]
    }
   ],
   "source": [
    "!pip install imblearn"
   ]
  },
  {
   "cell_type": "code",
   "execution_count": 38,
   "metadata": {
    "id": "POR7pAGyHWGG"
   },
   "outputs": [],
   "source": [
    "from google.cloud import bigquery\n",
    "from sklearn.preprocessing import StandardScaler\n",
    "from sklearn.preprocessing import OneHotEncoder\n",
    "import pandas as pd\n",
    "import numpy as np\n",
    "from sklearn.model_selection import train_test_split\n",
    "from sklearn.feature_selection import f_classif, chi2, SelectKBest\n",
    "from sklearn.decomposition import PCA\n",
    "from imblearn.under_sampling import RandomUnderSampler\n",
    "from sklearn.metrics import classification_report, confusion_matrix\n",
    "from sklearn.ensemble import RandomForestClassifier, GradientBoostingClassifier\n",
    "\n"
   ]
  },
  {
   "cell_type": "code",
   "execution_count": 39,
   "metadata": {
    "id": "kzVDJSfL4Mt6"
   },
   "outputs": [],
   "source": [
    "def widnow_based_behavior(customers,start_dated, end_dated, df_webtable) :\n",
    "  active_customers = df_webtable.loc[df_webtable['date_of_visit'].between(start_dated,end_dated)]['customer_id'].unique()\n",
    "  dff = df_webtable.loc[df_webtable['customer_id'].isin(customers)]\n",
    "  num_col_list = list(dff.select_dtypes(include='number').columns)\n",
    "  num_col_list.remove('customer_id')\n",
    "  df_agg = dff.groupby('customer_id')[num_col_list].mean( )\n",
    "  df_agg.columns = ['avg_' +  col for col in num_col_list]\n",
    "  cat_cal_list =['most_frequent_' + col for col in  list(dff.select_dtypes(include='object'))]\n",
    "  cat_cal_list.remove('most_frequent_session_id')\n",
    "  relevant_cols = list(dff.select_dtypes(include='object'))\n",
    "  relevant_cols.remove('session_id')\n",
    "  df_mode = dff.groupby('customer_id')[relevant_cols].agg(lambda x: x.mode().iloc[0])\n",
    "  df_mode.columns = cat_cal_list\n",
    "  df_days = dff.groupby('customer_id')['date_of_visit'].agg(lambda x: (pd.to_datetime(end_dated) - pd.to_datetime(x.max())).days)\n",
    "  df_days.columns = ['days_since_last_visit']\n",
    "  df_mode.reset_index(inplace=True)\n",
    "  df_agg.reset_index(inplace=True)\n",
    "  df_days = df_days.to_frame().reset_index()\n",
    "  df_summarized = pd.merge(df_agg,df_mode, on='customer_id', how='inner')\n",
    "  df_summarized['customer_id'] = df_summarized['customer_id'].astype('int64')\n",
    "  return df_summarized\n",
    "\n"
   ]
  },
  {
   "cell_type": "code",
   "execution_count": 40,
   "metadata": {
    "id": "cNVhH8crNUyr"
   },
   "outputs": [],
   "source": [
    "def create_training_set(df,df_web_table,df_loyalty_data,fold,fold_step=30):\n",
    "  fold_min_date =fold['training_start_date']\n",
    "  fold_max_date =fold['training_end_date']\n",
    "  df = df.loc[~df['customer_id'].isin(df_loyalty_data[df_loyalty_data['enrollment_date'].between(fold_min_date,fold_max_date)]['customer_id'])]\n",
    "  df = df.loc[df['customer_id'].isin(df[df_web_table['date_of_visit'].between(fold_min_date,fold_max_date)]['customer_id'].unique())]\n",
    "  window_based_behavior_dataset = widnow_based_behavior(df['customer_id'].astype('int64'),fold_min_date,fold_max_date,df_webtable)\n",
    "  df = pd.merge(df,window_based_behavior_dataset, on='customer_id', how='inner')\n",
    "  return df"
   ]
  },
  {
   "cell_type": "code",
   "execution_count": 41,
   "metadata": {
    "id": "86uvhcsmO4SM"
   },
   "outputs": [],
   "source": [
    "def create_training_labels (df,df_loyaltytable, fold):\n",
    "  enrolled =df_loyaltytable[df_loyaltytable['customer_id'].isin(df_loyaltytable[df_loyaltytable['enrollment_date'].between(fold['label_start_date'],fold['label_end_date'])]['customer_id'])]['customer_id']\n",
    "  df['target'] = df['customer_id'].isin(enrolled)\n",
    "  return df['target']"
   ]
  },
  {
   "cell_type": "code",
   "execution_count": 42,
   "metadata": {
    "id": "hnfOg9FqPyxj"
   },
   "outputs": [],
   "source": [
    "def create_test_set (df, df_webtable,df_loyaltytable, fold) :\n",
    "  test_df = df_mastertable[df_webtable['date_of_visit'].between(fold['test_start_date'],fold['test_end_date'])]\n",
    "  customer_ids_enrolled_already = df_loyaltytable[df_loyaltytable['enrollment_date']<=fold['test_end_date']]\n",
    "  test_df = test_df[~test_df['customer_id'].isin(customer_ids_enrolled_already['customer_id'])]\n",
    "  test_window_df = widnow_based_behavior(test_df['customer_id'].astype('int64'),fold['test_start_date'],fold['test_end_date'],df_webtable)\n",
    "  test_df = pd.merge(test_df,test_window_df, on='customer_id', how='inner')\n",
    "  return test_df"
   ]
  },
  {
   "cell_type": "code",
   "execution_count": 43,
   "metadata": {
    "id": "5n4f5ICDRCmu"
   },
   "outputs": [],
   "source": [
    "def create_test_labels(test_df,fold,df_loyaltytable) :\n",
    "  # 'test_start_date' : pd.to_datetime('2025-04-01'), 'test_end_date' : pd.to_datetime('2025-04-15'),'test_label_start_date' : , 'test_label_end_date' : pd.to_datetime('2025-04-30')}\n",
    "  enrolled =df_loyaltytable[df_loyaltytable['customer_id'].isin(df_loyaltytable[df_loyaltytable['enrollment_date'].between(pd.to_datetime('2025-04-16'),pd.to_datetime('2025-04-30'))]['customer_id'])]\n",
    "  test_df['target'] = test_df['customer_id'].isin(enrolled['customer_id'])\n",
    "  return test_df['target']"
   ]
  },
  {
   "cell_type": "code",
   "execution_count": 44,
   "metadata": {
    "id": "hWiDdvZVU2Zi"
   },
   "outputs": [],
   "source": [
    "def keep_relevant_cols(df) :\n",
    "  rem_cols =['customer_id','target']\n",
    "  cols = [i for i in df.columns if i not in rem_cols]\n",
    "  return df[cols], df[rem_cols]"
   ]
  },
  {
   "cell_type": "code",
   "execution_count": 45,
   "metadata": {
    "id": "GJQRePE9VkG2"
   },
   "outputs": [],
   "source": [
    "def standardization (df) :\n",
    "  scaler = StandardScaler()\n",
    "  scaler.fit(df.select_dtypes(include='number'))\n",
    "  df[df.select_dtypes(include='number').columns] = scaler.transform(df[df.select_dtypes(include='number').columns])\n",
    "  return df"
   ]
  },
  {
   "cell_type": "code",
   "execution_count": 46,
   "metadata": {
    "id": "oDB98joBV_RX"
   },
   "outputs": [],
   "source": [
    "def Onehotencoding (df):\n",
    "  OE = OneHotEncoder(sparse_output=False,drop='first')\n",
    "  OE.fit(df[df.select_dtypes(include='object').columns])\n",
    "  df[OE.get_feature_names_out()] = OE.transform(df[df.select_dtypes(include='object').columns])\n",
    "  df.drop(columns=df.select_dtypes(include='object').columns,inplace=True)\n",
    "  return df, OE"
   ]
  },
  {
   "cell_type": "code",
   "execution_count": 47,
   "metadata": {
    "id": "BXiCeZtxrIuU"
   },
   "outputs": [],
   "source": [
    "def selecting_best_features(df,target,ObjOE) :\n",
    "   num_feature_length = len(df_mastertable.select_dtypes(include = 'number').columns)\n",
    "   selector_num = SelectKBest(f_classif, k=3)\n",
    "   num_features = selector_num.fit(df,target['target']).get_feature_names_out()\n",
    "   cat_feature_length = len(df[ObjOE.get_feature_names_out()])\n",
    "   selector_cat = SelectKBest(chi2, k=6)\n",
    "   cat_features = selector_cat.fit(df[list(ObjOE.get_feature_names_out()) + ['email_provided']],target['target']).get_feature_names_out()\n",
    "   features = list(num_features) + list(cat_features)\n",
    "   return df[features], target, features\n"
   ]
  },
  {
   "cell_type": "code",
   "execution_count": 48,
   "metadata": {
    "id": "ezrC90QqkUEC"
   },
   "outputs": [],
   "source": [
    "def folds_properties(first_date, last_date, step=10,\n",
    "                     training_size=30, training_label_size=30,\n",
    "                     test_size=15, test_label_size=15):\n",
    "\n",
    "    max_days_needed = training_size + training_label_size + test_size + test_label_size\n",
    "    total_days = (last_date - first_date).days\n",
    "    num_of_folds = (total_days - max_days_needed) // step + 1\n",
    "\n",
    "    dict_folds = {}\n",
    "\n",
    "    for i in range(num_of_folds):\n",
    "        training_start_date = first_date + pd.Timedelta(days=i * step)\n",
    "        training_end_date = training_start_date + pd.Timedelta(days=training_size - 1)\n",
    "\n",
    "        label_start_date = training_end_date + pd.Timedelta(days=1)\n",
    "        label_end_date = label_start_date + pd.Timedelta(days=training_label_size - 1)\n",
    "\n",
    "        test_start_date = label_end_date + pd.Timedelta(days=1)\n",
    "        test_end_date = test_start_date + pd.Timedelta(days=test_size - 1)\n",
    "\n",
    "        test_label_start_date = test_end_date + pd.Timedelta(days=1)\n",
    "        test_label_end_date = test_label_start_date + pd.Timedelta(days=test_label_size - 1)\n",
    "\n",
    "        if test_label_end_date > last_date:\n",
    "            break\n",
    "\n",
    "        k = f'Fold {i + 1}'\n",
    "        dict_folds[k] = {\n",
    "            'training_start_date': training_start_date,\n",
    "            'training_end_date': training_end_date,\n",
    "            'label_start_date': label_start_date,\n",
    "            'label_end_date': label_end_date,\n",
    "            'test_start_date': test_start_date,\n",
    "            'test_end_date': test_end_date,\n",
    "            'test_label_start_date': test_label_start_date,\n",
    "            'test_label_end_date': test_label_end_date\n",
    "        }\n",
    "\n",
    "    return dict_folds, num_of_folds\n"
   ]
  },
  {
   "cell_type": "code",
   "execution_count": 49,
   "metadata": {
    "id": "DhXmR0qzyvdH"
   },
   "outputs": [],
   "source": [
    "def  resample(X_set,Y_set) :\n",
    "  rus = RandomUnderSampler(sampling_strategy=0.6)\n",
    "  X_resampled, y_resampled = rus.fit_resample(X_set, Y_set)\n",
    "  return X_resampled, y_resampled"
   ]
  },
  {
   "cell_type": "code",
   "execution_count": 50,
   "metadata": {
    "id": "kxhI2x9UJnDA"
   },
   "outputs": [],
   "source": [
    "bq_client = bigquery.Client(project = 'customer-marketing-analytics')\n",
    "querycustomertable = 'Select customer_id, age, email, gender, income, card_type,  state, country from customer-marketing-analytics.customer_and_marketing_data_analysis.Customer_Data_CMA'\n",
    "querywebtable = 'Select * from customer-marketing-analytics.customer_and_marketing_data_analysis.Web_analytics_Data_CMA'\n",
    "queryloyaltytable = 'Select customer_id, enrollment_status, enrollment_date from customer-marketing-analytics.customer_and_marketing_data_analysis.Loyalty_Program_Data_CMA'\n",
    "\n",
    "\n",
    "resmaster = bq_client.query(querycustomertable)\n",
    "resweb = bq_client.query(querywebtable)\n",
    "resloyalty = bq_client.query(queryloyaltytable)"
   ]
  },
  {
   "cell_type": "code",
   "execution_count": 51,
   "metadata": {
    "id": "Ryqqs8phLDMN"
   },
   "outputs": [],
   "source": [
    "df_mastertable = resmaster.to_dataframe()\n",
    "df_webtable = resweb.to_dataframe()\n",
    "df_loyaltytable = resloyalty.to_dataframe()"
   ]
  },
  {
   "cell_type": "code",
   "execution_count": 52,
   "metadata": {
    "colab": {
     "base_uri": "https://localhost:8080/"
    },
    "id": "AhtA4JACG5UQ",
    "outputId": "4f68d14c-4fa1-439e-e3df-14d94776c0e9"
   },
   "outputs": [
    {
     "data": {
      "text/plain": [
       "np.int64(1804)"
      ]
     },
     "execution_count": 52,
     "metadata": {},
     "output_type": "execute_result"
    }
   ],
   "source": [
    "df_mastertable['email'].isna().sum()"
   ]
  },
  {
   "cell_type": "code",
   "execution_count": 53,
   "metadata": {
    "id": "eGrU-Q1yGp_R"
   },
   "outputs": [],
   "source": [
    "\n",
    "df_mastertable['email'] = df_mastertable['email'].fillna(value=np.nan)\n",
    "df_mastertable['email_provided'] = df_mastertable['email'].apply(lambda x : False if pd.isna(x) else True)\n",
    "df_mastertable.drop(columns=['email'],inplace=True)"
   ]
  },
  {
   "cell_type": "code",
   "execution_count": 54,
   "metadata": {
    "colab": {
     "base_uri": "https://localhost:8080/"
    },
    "id": "-38p0moeGRq8",
    "outputId": "f52891b6-ba03-420b-a137-0bf19afae9ce"
   },
   "outputs": [
    {
     "data": {
      "text/plain": [
       "Index(['customer_id', 'age', 'gender', 'income', 'card_type', 'state',\n",
       "       'country', 'email_provided'],\n",
       "      dtype='object')"
      ]
     },
     "execution_count": 54,
     "metadata": {},
     "output_type": "execute_result"
    }
   ],
   "source": [
    "df_mastertable.columns"
   ]
  },
  {
   "cell_type": "code",
   "execution_count": 55,
   "metadata": {
    "id": "6MLP2T1a3Rjb",
    "tags": []
   },
   "outputs": [],
   "source": [
    "first_date = df_webtable['date_of_visit'].min( )\n",
    "last_date = df_webtable['date_of_visit'].max( )"
   ]
  },
  {
   "cell_type": "code",
   "execution_count": 56,
   "metadata": {
    "id": "qKQ8_8f6q4Vq"
   },
   "outputs": [],
   "source": [
    "fold_dictionary,num_folds = folds_properties(first_date=first_date,last_date=last_date)"
   ]
  },
  {
   "cell_type": "code",
   "execution_count": 57,
   "metadata": {
    "id": "juskTcRJrBBm"
   },
   "outputs": [],
   "source": [
    "def dataset_creator(fold_dictionary,num_folds) :\n",
    "  dict_tables = {}\n",
    "  for i in range(num_folds):\n",
    "    k = f'fold_datasets_{i+1}'\n",
    "    training_df = create_training_set(df_mastertable,df_webtable,df_loyaltytable,fold_dictionary[f'Fold {i+1}'])\n",
    "    training_labels = create_training_labels(training_df,df_loyaltytable,fold_dictionary[f'Fold {i+1}'])\n",
    "    test_df = create_test_set(df_mastertable,df_webtable,df_loyaltytable,fold_dictionary[f'Fold {i+1}'])\n",
    "    test_labels = create_test_labels(test_df,fold_dictionary[f'Fold {i+1}'],df_loyaltytable)\n",
    "    training_df, training_labels = keep_relevant_cols(training_df)\n",
    "    test_df, test_labels = keep_relevant_cols(test_df)\n",
    "    training_df = standardization(training_df)\n",
    "    test_df = standardization(test_df)\n",
    "    training_df,OE = Onehotencoding(training_df)\n",
    "    test_df,OET = Onehotencoding(test_df)\n",
    "    training_df, training_labels,features = selecting_best_features(training_df,training_labels,OE)\n",
    "    test_df=test_df[training_df.columns]\n",
    "    dict_tables[k] = {'training_df':training_df,'training_labels':training_labels,'test_df':test_df,'test_labels':test_labels}\n",
    "  return dict_tables\n",
    "\n",
    "\n",
    "\n",
    "\n"
   ]
  },
  {
   "cell_type": "code",
   "execution_count": 58,
   "metadata": {
    "colab": {
     "base_uri": "https://localhost:8080/"
    },
    "id": "XjBfWID1_pmj",
    "outputId": "059e1bee-d997-4d3f-dc1f-a35c4a0f2fc2"
   },
   "outputs": [
    {
     "name": "stdout",
     "output_type": "stream",
     "text": [
      "<class 'pandas.core.frame.DataFrame'>\n",
      "RangeIndex: 29997 entries, 0 to 29996\n",
      "Data columns (total 12 columns):\n",
      " #   Column                Non-Null Count  Dtype \n",
      "---  ------                --------------  ----- \n",
      " 0   customer_id           29997 non-null  Int64 \n",
      " 1   session_duration      29997 non-null  Int64 \n",
      " 2   page_views            29997 non-null  Int64 \n",
      " 3   session_id            29997 non-null  object\n",
      " 4   traffic_Channel       29997 non-null  object\n",
      " 5   device_type           29997 non-null  object\n",
      " 6   browser               29997 non-null  object\n",
      " 7   landing_page          29997 non-null  object\n",
      " 8   Loyalty Offer Pop Up  29997 non-null  object\n",
      " 9   user_location         29997 non-null  object\n",
      " 10  event_type            29997 non-null  object\n",
      " 11  date_of_visit         29997 non-null  dbdate\n",
      "dtypes: Int64(3), dbdate(1), object(8)\n",
      "memory usage: 2.8+ MB\n"
     ]
    }
   ],
   "source": [
    "df_webtable.info()"
   ]
  },
  {
   "cell_type": "code",
   "execution_count": 59,
   "metadata": {
    "colab": {
     "base_uri": "https://localhost:8080/"
    },
    "id": "zjCYb_1Dv29X",
    "outputId": "b7044aac-af04-409d-c7ac-24db683c53b9"
   },
   "outputs": [
    {
     "name": "stderr",
     "output_type": "stream",
     "text": [
      "/var/tmp/ipykernel_4546/2466994944.py:5: UserWarning: Boolean Series key will be reindexed to match DataFrame index.\n",
      "  df = df.loc[df['customer_id'].isin(df[df_web_table['date_of_visit'].between(fold_min_date,fold_max_date)]['customer_id'].unique())]\n",
      "/var/tmp/ipykernel_4546/3589150227.py:2: UserWarning: Boolean Series key will be reindexed to match DataFrame index.\n",
      "  test_df = df_mastertable[df_webtable['date_of_visit'].between(fold['test_start_date'],fold['test_end_date'])]\n",
      "/var/tmp/ipykernel_4546/2466994944.py:5: UserWarning: Boolean Series key will be reindexed to match DataFrame index.\n",
      "  df = df.loc[df['customer_id'].isin(df[df_web_table['date_of_visit'].between(fold_min_date,fold_max_date)]['customer_id'].unique())]\n",
      "/var/tmp/ipykernel_4546/3589150227.py:2: UserWarning: Boolean Series key will be reindexed to match DataFrame index.\n",
      "  test_df = df_mastertable[df_webtable['date_of_visit'].between(fold['test_start_date'],fold['test_end_date'])]\n",
      "/var/tmp/ipykernel_4546/2466994944.py:5: UserWarning: Boolean Series key will be reindexed to match DataFrame index.\n",
      "  df = df.loc[df['customer_id'].isin(df[df_web_table['date_of_visit'].between(fold_min_date,fold_max_date)]['customer_id'].unique())]\n",
      "/var/tmp/ipykernel_4546/3589150227.py:2: UserWarning: Boolean Series key will be reindexed to match DataFrame index.\n",
      "  test_df = df_mastertable[df_webtable['date_of_visit'].between(fold['test_start_date'],fold['test_end_date'])]\n",
      "/var/tmp/ipykernel_4546/2466994944.py:5: UserWarning: Boolean Series key will be reindexed to match DataFrame index.\n",
      "  df = df.loc[df['customer_id'].isin(df[df_web_table['date_of_visit'].between(fold_min_date,fold_max_date)]['customer_id'].unique())]\n",
      "/var/tmp/ipykernel_4546/3589150227.py:2: UserWarning: Boolean Series key will be reindexed to match DataFrame index.\n",
      "  test_df = df_mastertable[df_webtable['date_of_visit'].between(fold['test_start_date'],fold['test_end_date'])]\n"
     ]
    }
   ],
   "source": [
    "datasets = dataset_creator(fold_dictionary,num_folds)"
   ]
  },
  {
   "cell_type": "code",
   "execution_count": 79,
   "metadata": {
    "id": "pMvcrXhjttiQ"
   },
   "outputs": [],
   "source": [
    "from sklearn.ensemble import GradientBoostingClassifier\n",
    "from sklearn.metrics import classification_report, confusion_matrix\n",
    "gbc = GradientBoostingClassifier(n_estimators=1000, loss ='exponential',learning_rate=0.05,subsample=0.7,min_samples_leaf=2,min_samples_split=4,random_state=42)"
   ]
  },
  {
   "cell_type": "code",
   "execution_count": 80,
   "metadata": {
    "colab": {
     "base_uri": "https://localhost:8080/"
    },
    "id": "DPv7IiCSv1Ie",
    "outputId": "9f793fe6-fd9f-44ee-89fd-57b8f9965e84"
   },
   "outputs": [
    {
     "name": "stdout",
     "output_type": "stream",
     "text": [
      "[[435 122]\n",
      " [  7  13]]\n",
      "[[455 128]\n",
      " [  8  21]]\n",
      "[[617 118]\n",
      " [ 13  25]]\n",
      "[[1082  200]\n",
      " [  28   44]]\n"
     ]
    }
   ],
   "source": [
    "accuracy_metrics=list( )\n",
    "timestamp = pd.Timestamp.now( )\n",
    "for j in range(0,num_folds) :\n",
    "  X,Y = resample(datasets[f'fold_datasets_{j+1}']['training_df'],datasets[f'fold_datasets_{j+1}']['training_labels']['target'])\n",
    "  gbc.fit(X,Y)\n",
    "  gbc_pred = gbc.predict(datasets[f'fold_datasets_{j+1}']['test_df'])\n",
    "  mat=confusion_matrix(datasets[f'fold_datasets_{j+1}']['test_labels']['target'],gbc_pred)\n",
    "  accuracy_metrics.append(list(mat.flatten( ))+[timestamp])\n",
    "  print(mat)"
   ]
  },
  {
   "cell_type": "code",
   "execution_count": 62,
   "metadata": {
    "colab": {
     "base_uri": "https://localhost:8080/"
    },
    "id": "zGrhmI053Rjc",
    "outputId": "825b49e8-b877-4035-f8d7-3dd2a28b1757",
    "tags": []
   },
   "outputs": [
    {
     "name": "stdout",
     "output_type": "stream",
     "text": [
      "   True negatives  False Positives  False Negatives  True Positives  \\\n",
      "0             442              115                2              18   \n",
      "1             460              123               14              15   \n",
      "2             621              114               12              26   \n",
      "3            1057              225               25              47   \n",
      "\n",
      "                   Timestamp  \n",
      "0 2025-04-20 12:43:41.488286  \n",
      "1 2025-04-20 12:43:41.488286  \n",
      "2 2025-04-20 12:43:41.488286  \n",
      "3 2025-04-20 12:43:41.488286  \n"
     ]
    }
   ],
   "source": [
    "accuracy_tracking = pd.DataFrame(data = accuracy_metrics, columns =['True negatives', 'False Positives', 'False Negatives','True Positives','Timestamp'])\n",
    "print(accuracy_tracking)"
   ]
  },
  {
   "cell_type": "code",
   "execution_count": 63,
   "metadata": {
    "id": "sNE2WPbvxmko"
   },
   "outputs": [],
   "source": [
    "final_model = GradientBoostingClassifier(n_estimators=1000, loss ='exponential',learning_rate=0.05,subsample=0.75,min_samples_leaf=2,min_samples_split=4,random_state=42)"
   ]
  },
  {
   "cell_type": "code",
   "execution_count": 64,
   "metadata": {
    "id": "ihgtpiGZ1OkD"
   },
   "outputs": [],
   "source": [
    "prod_training_fold ={'training_start_date' :last_date-pd.Timedelta(days=45), 'training_end_date' : last_date-pd.Timedelta(days=15),'label_start_date' : last_date-pd.Timedelta(days=14),'label_end_date': last_date}"
   ]
  },
  {
   "cell_type": "code",
   "execution_count": 65,
   "metadata": {
    "colab": {
     "base_uri": "https://localhost:8080/"
    },
    "id": "t8wIRII92Tme",
    "outputId": "34aeada8-9a2d-4f62-dae5-6cb9c447049a"
   },
   "outputs": [
    {
     "name": "stderr",
     "output_type": "stream",
     "text": [
      "/var/tmp/ipykernel_4546/2466994944.py:5: UserWarning: Boolean Series key will be reindexed to match DataFrame index.\n",
      "  df = df.loc[df['customer_id'].isin(df[df_web_table['date_of_visit'].between(fold_min_date,fold_max_date)]['customer_id'].unique())]\n"
     ]
    }
   ],
   "source": [
    "prod_training_df = create_training_set(df_mastertable,df_webtable,df_loyaltytable,prod_training_fold)\n",
    "prod_training_df['target'] = create_training_labels(prod_training_df,df_loyaltytable,prod_training_fold)\n",
    "prod_training_df, prod_training_labels = keep_relevant_cols(prod_training_df)\n",
    "prod_training_df = standardization(prod_training_df)\n",
    "prod_training_df,OE = Onehotencoding(prod_training_df)\n",
    "prod_training_df, prod_training_labels,features = selecting_best_features(prod_training_df,prod_training_labels,OE)\n"
   ]
  },
  {
   "cell_type": "code",
   "execution_count": 66,
   "metadata": {
    "colab": {
     "base_uri": "https://localhost:8080/"
    },
    "id": "KmvgP_gf3vU_",
    "outputId": "06f44af4-a160-416a-c5df-c8b9206c549a"
   },
   "outputs": [
    {
     "name": "stderr",
     "output_type": "stream",
     "text": [
      "/var/tmp/ipykernel_4546/3589150227.py:2: UserWarning: Boolean Series key will be reindexed to match DataFrame index.\n",
      "  test_df = df_mastertable[df_webtable['date_of_visit'].between(fold['test_start_date'],fold['test_end_date'])]\n"
     ]
    }
   ],
   "source": [
    "pred_against_cids = pd.DataFrame()\n",
    "prod_pred_fold ={'test_start_date' : last_date-pd.Timedelta(days=14),'test_end_date': last_date}\n",
    "prod_pred_df = create_test_set(df_mastertable,df_webtable,df_loyaltytable,prod_pred_fold)\n",
    "pred_against_cids['customer_id'] = prod_pred_df['customer_id']\n",
    "prod_pred_df = standardization(prod_pred_df)\n",
    "prod_pred_df,OET = Onehotencoding(prod_pred_df)\n",
    "prod_pred_df = prod_pred_df[prod_training_df.columns]\n"
   ]
  },
  {
   "cell_type": "code",
   "execution_count": 67,
   "metadata": {
    "colab": {
     "base_uri": "https://localhost:8080/",
     "height": 114
    },
    "id": "tYvxZnr33bef",
    "outputId": "bfc2b1c4-e038-4d24-8b72-f4c75057762c"
   },
   "outputs": [
    {
     "data": {
      "text/html": [
       "<style>#sk-container-id-2 {\n",
       "  /* Definition of color scheme common for light and dark mode */\n",
       "  --sklearn-color-text: #000;\n",
       "  --sklearn-color-text-muted: #666;\n",
       "  --sklearn-color-line: gray;\n",
       "  /* Definition of color scheme for unfitted estimators */\n",
       "  --sklearn-color-unfitted-level-0: #fff5e6;\n",
       "  --sklearn-color-unfitted-level-1: #f6e4d2;\n",
       "  --sklearn-color-unfitted-level-2: #ffe0b3;\n",
       "  --sklearn-color-unfitted-level-3: chocolate;\n",
       "  /* Definition of color scheme for fitted estimators */\n",
       "  --sklearn-color-fitted-level-0: #f0f8ff;\n",
       "  --sklearn-color-fitted-level-1: #d4ebff;\n",
       "  --sklearn-color-fitted-level-2: #b3dbfd;\n",
       "  --sklearn-color-fitted-level-3: cornflowerblue;\n",
       "\n",
       "  /* Specific color for light theme */\n",
       "  --sklearn-color-text-on-default-background: var(--sg-text-color, var(--theme-code-foreground, var(--jp-content-font-color1, black)));\n",
       "  --sklearn-color-background: var(--sg-background-color, var(--theme-background, var(--jp-layout-color0, white)));\n",
       "  --sklearn-color-border-box: var(--sg-text-color, var(--theme-code-foreground, var(--jp-content-font-color1, black)));\n",
       "  --sklearn-color-icon: #696969;\n",
       "\n",
       "  @media (prefers-color-scheme: dark) {\n",
       "    /* Redefinition of color scheme for dark theme */\n",
       "    --sklearn-color-text-on-default-background: var(--sg-text-color, var(--theme-code-foreground, var(--jp-content-font-color1, white)));\n",
       "    --sklearn-color-background: var(--sg-background-color, var(--theme-background, var(--jp-layout-color0, #111)));\n",
       "    --sklearn-color-border-box: var(--sg-text-color, var(--theme-code-foreground, var(--jp-content-font-color1, white)));\n",
       "    --sklearn-color-icon: #878787;\n",
       "  }\n",
       "}\n",
       "\n",
       "#sk-container-id-2 {\n",
       "  color: var(--sklearn-color-text);\n",
       "}\n",
       "\n",
       "#sk-container-id-2 pre {\n",
       "  padding: 0;\n",
       "}\n",
       "\n",
       "#sk-container-id-2 input.sk-hidden--visually {\n",
       "  border: 0;\n",
       "  clip: rect(1px 1px 1px 1px);\n",
       "  clip: rect(1px, 1px, 1px, 1px);\n",
       "  height: 1px;\n",
       "  margin: -1px;\n",
       "  overflow: hidden;\n",
       "  padding: 0;\n",
       "  position: absolute;\n",
       "  width: 1px;\n",
       "}\n",
       "\n",
       "#sk-container-id-2 div.sk-dashed-wrapped {\n",
       "  border: 1px dashed var(--sklearn-color-line);\n",
       "  margin: 0 0.4em 0.5em 0.4em;\n",
       "  box-sizing: border-box;\n",
       "  padding-bottom: 0.4em;\n",
       "  background-color: var(--sklearn-color-background);\n",
       "}\n",
       "\n",
       "#sk-container-id-2 div.sk-container {\n",
       "  /* jupyter's `normalize.less` sets `[hidden] { display: none; }`\n",
       "     but bootstrap.min.css set `[hidden] { display: none !important; }`\n",
       "     so we also need the `!important` here to be able to override the\n",
       "     default hidden behavior on the sphinx rendered scikit-learn.org.\n",
       "     See: https://github.com/scikit-learn/scikit-learn/issues/21755 */\n",
       "  display: inline-block !important;\n",
       "  position: relative;\n",
       "}\n",
       "\n",
       "#sk-container-id-2 div.sk-text-repr-fallback {\n",
       "  display: none;\n",
       "}\n",
       "\n",
       "div.sk-parallel-item,\n",
       "div.sk-serial,\n",
       "div.sk-item {\n",
       "  /* draw centered vertical line to link estimators */\n",
       "  background-image: linear-gradient(var(--sklearn-color-text-on-default-background), var(--sklearn-color-text-on-default-background));\n",
       "  background-size: 2px 100%;\n",
       "  background-repeat: no-repeat;\n",
       "  background-position: center center;\n",
       "}\n",
       "\n",
       "/* Parallel-specific style estimator block */\n",
       "\n",
       "#sk-container-id-2 div.sk-parallel-item::after {\n",
       "  content: \"\";\n",
       "  width: 100%;\n",
       "  border-bottom: 2px solid var(--sklearn-color-text-on-default-background);\n",
       "  flex-grow: 1;\n",
       "}\n",
       "\n",
       "#sk-container-id-2 div.sk-parallel {\n",
       "  display: flex;\n",
       "  align-items: stretch;\n",
       "  justify-content: center;\n",
       "  background-color: var(--sklearn-color-background);\n",
       "  position: relative;\n",
       "}\n",
       "\n",
       "#sk-container-id-2 div.sk-parallel-item {\n",
       "  display: flex;\n",
       "  flex-direction: column;\n",
       "}\n",
       "\n",
       "#sk-container-id-2 div.sk-parallel-item:first-child::after {\n",
       "  align-self: flex-end;\n",
       "  width: 50%;\n",
       "}\n",
       "\n",
       "#sk-container-id-2 div.sk-parallel-item:last-child::after {\n",
       "  align-self: flex-start;\n",
       "  width: 50%;\n",
       "}\n",
       "\n",
       "#sk-container-id-2 div.sk-parallel-item:only-child::after {\n",
       "  width: 0;\n",
       "}\n",
       "\n",
       "/* Serial-specific style estimator block */\n",
       "\n",
       "#sk-container-id-2 div.sk-serial {\n",
       "  display: flex;\n",
       "  flex-direction: column;\n",
       "  align-items: center;\n",
       "  background-color: var(--sklearn-color-background);\n",
       "  padding-right: 1em;\n",
       "  padding-left: 1em;\n",
       "}\n",
       "\n",
       "\n",
       "/* Toggleable style: style used for estimator/Pipeline/ColumnTransformer box that is\n",
       "clickable and can be expanded/collapsed.\n",
       "- Pipeline and ColumnTransformer use this feature and define the default style\n",
       "- Estimators will overwrite some part of the style using the `sk-estimator` class\n",
       "*/\n",
       "\n",
       "/* Pipeline and ColumnTransformer style (default) */\n",
       "\n",
       "#sk-container-id-2 div.sk-toggleable {\n",
       "  /* Default theme specific background. It is overwritten whether we have a\n",
       "  specific estimator or a Pipeline/ColumnTransformer */\n",
       "  background-color: var(--sklearn-color-background);\n",
       "}\n",
       "\n",
       "/* Toggleable label */\n",
       "#sk-container-id-2 label.sk-toggleable__label {\n",
       "  cursor: pointer;\n",
       "  display: flex;\n",
       "  width: 100%;\n",
       "  margin-bottom: 0;\n",
       "  padding: 0.5em;\n",
       "  box-sizing: border-box;\n",
       "  text-align: center;\n",
       "  align-items: start;\n",
       "  justify-content: space-between;\n",
       "  gap: 0.5em;\n",
       "}\n",
       "\n",
       "#sk-container-id-2 label.sk-toggleable__label .caption {\n",
       "  font-size: 0.6rem;\n",
       "  font-weight: lighter;\n",
       "  color: var(--sklearn-color-text-muted);\n",
       "}\n",
       "\n",
       "#sk-container-id-2 label.sk-toggleable__label-arrow:before {\n",
       "  /* Arrow on the left of the label */\n",
       "  content: \"▸\";\n",
       "  float: left;\n",
       "  margin-right: 0.25em;\n",
       "  color: var(--sklearn-color-icon);\n",
       "}\n",
       "\n",
       "#sk-container-id-2 label.sk-toggleable__label-arrow:hover:before {\n",
       "  color: var(--sklearn-color-text);\n",
       "}\n",
       "\n",
       "/* Toggleable content - dropdown */\n",
       "\n",
       "#sk-container-id-2 div.sk-toggleable__content {\n",
       "  max-height: 0;\n",
       "  max-width: 0;\n",
       "  overflow: hidden;\n",
       "  text-align: left;\n",
       "  /* unfitted */\n",
       "  background-color: var(--sklearn-color-unfitted-level-0);\n",
       "}\n",
       "\n",
       "#sk-container-id-2 div.sk-toggleable__content.fitted {\n",
       "  /* fitted */\n",
       "  background-color: var(--sklearn-color-fitted-level-0);\n",
       "}\n",
       "\n",
       "#sk-container-id-2 div.sk-toggleable__content pre {\n",
       "  margin: 0.2em;\n",
       "  border-radius: 0.25em;\n",
       "  color: var(--sklearn-color-text);\n",
       "  /* unfitted */\n",
       "  background-color: var(--sklearn-color-unfitted-level-0);\n",
       "}\n",
       "\n",
       "#sk-container-id-2 div.sk-toggleable__content.fitted pre {\n",
       "  /* unfitted */\n",
       "  background-color: var(--sklearn-color-fitted-level-0);\n",
       "}\n",
       "\n",
       "#sk-container-id-2 input.sk-toggleable__control:checked~div.sk-toggleable__content {\n",
       "  /* Expand drop-down */\n",
       "  max-height: 200px;\n",
       "  max-width: 100%;\n",
       "  overflow: auto;\n",
       "}\n",
       "\n",
       "#sk-container-id-2 input.sk-toggleable__control:checked~label.sk-toggleable__label-arrow:before {\n",
       "  content: \"▾\";\n",
       "}\n",
       "\n",
       "/* Pipeline/ColumnTransformer-specific style */\n",
       "\n",
       "#sk-container-id-2 div.sk-label input.sk-toggleable__control:checked~label.sk-toggleable__label {\n",
       "  color: var(--sklearn-color-text);\n",
       "  background-color: var(--sklearn-color-unfitted-level-2);\n",
       "}\n",
       "\n",
       "#sk-container-id-2 div.sk-label.fitted input.sk-toggleable__control:checked~label.sk-toggleable__label {\n",
       "  background-color: var(--sklearn-color-fitted-level-2);\n",
       "}\n",
       "\n",
       "/* Estimator-specific style */\n",
       "\n",
       "/* Colorize estimator box */\n",
       "#sk-container-id-2 div.sk-estimator input.sk-toggleable__control:checked~label.sk-toggleable__label {\n",
       "  /* unfitted */\n",
       "  background-color: var(--sklearn-color-unfitted-level-2);\n",
       "}\n",
       "\n",
       "#sk-container-id-2 div.sk-estimator.fitted input.sk-toggleable__control:checked~label.sk-toggleable__label {\n",
       "  /* fitted */\n",
       "  background-color: var(--sklearn-color-fitted-level-2);\n",
       "}\n",
       "\n",
       "#sk-container-id-2 div.sk-label label.sk-toggleable__label,\n",
       "#sk-container-id-2 div.sk-label label {\n",
       "  /* The background is the default theme color */\n",
       "  color: var(--sklearn-color-text-on-default-background);\n",
       "}\n",
       "\n",
       "/* On hover, darken the color of the background */\n",
       "#sk-container-id-2 div.sk-label:hover label.sk-toggleable__label {\n",
       "  color: var(--sklearn-color-text);\n",
       "  background-color: var(--sklearn-color-unfitted-level-2);\n",
       "}\n",
       "\n",
       "/* Label box, darken color on hover, fitted */\n",
       "#sk-container-id-2 div.sk-label.fitted:hover label.sk-toggleable__label.fitted {\n",
       "  color: var(--sklearn-color-text);\n",
       "  background-color: var(--sklearn-color-fitted-level-2);\n",
       "}\n",
       "\n",
       "/* Estimator label */\n",
       "\n",
       "#sk-container-id-2 div.sk-label label {\n",
       "  font-family: monospace;\n",
       "  font-weight: bold;\n",
       "  display: inline-block;\n",
       "  line-height: 1.2em;\n",
       "}\n",
       "\n",
       "#sk-container-id-2 div.sk-label-container {\n",
       "  text-align: center;\n",
       "}\n",
       "\n",
       "/* Estimator-specific */\n",
       "#sk-container-id-2 div.sk-estimator {\n",
       "  font-family: monospace;\n",
       "  border: 1px dotted var(--sklearn-color-border-box);\n",
       "  border-radius: 0.25em;\n",
       "  box-sizing: border-box;\n",
       "  margin-bottom: 0.5em;\n",
       "  /* unfitted */\n",
       "  background-color: var(--sklearn-color-unfitted-level-0);\n",
       "}\n",
       "\n",
       "#sk-container-id-2 div.sk-estimator.fitted {\n",
       "  /* fitted */\n",
       "  background-color: var(--sklearn-color-fitted-level-0);\n",
       "}\n",
       "\n",
       "/* on hover */\n",
       "#sk-container-id-2 div.sk-estimator:hover {\n",
       "  /* unfitted */\n",
       "  background-color: var(--sklearn-color-unfitted-level-2);\n",
       "}\n",
       "\n",
       "#sk-container-id-2 div.sk-estimator.fitted:hover {\n",
       "  /* fitted */\n",
       "  background-color: var(--sklearn-color-fitted-level-2);\n",
       "}\n",
       "\n",
       "/* Specification for estimator info (e.g. \"i\" and \"?\") */\n",
       "\n",
       "/* Common style for \"i\" and \"?\" */\n",
       "\n",
       ".sk-estimator-doc-link,\n",
       "a:link.sk-estimator-doc-link,\n",
       "a:visited.sk-estimator-doc-link {\n",
       "  float: right;\n",
       "  font-size: smaller;\n",
       "  line-height: 1em;\n",
       "  font-family: monospace;\n",
       "  background-color: var(--sklearn-color-background);\n",
       "  border-radius: 1em;\n",
       "  height: 1em;\n",
       "  width: 1em;\n",
       "  text-decoration: none !important;\n",
       "  margin-left: 0.5em;\n",
       "  text-align: center;\n",
       "  /* unfitted */\n",
       "  border: var(--sklearn-color-unfitted-level-1) 1pt solid;\n",
       "  color: var(--sklearn-color-unfitted-level-1);\n",
       "}\n",
       "\n",
       ".sk-estimator-doc-link.fitted,\n",
       "a:link.sk-estimator-doc-link.fitted,\n",
       "a:visited.sk-estimator-doc-link.fitted {\n",
       "  /* fitted */\n",
       "  border: var(--sklearn-color-fitted-level-1) 1pt solid;\n",
       "  color: var(--sklearn-color-fitted-level-1);\n",
       "}\n",
       "\n",
       "/* On hover */\n",
       "div.sk-estimator:hover .sk-estimator-doc-link:hover,\n",
       ".sk-estimator-doc-link:hover,\n",
       "div.sk-label-container:hover .sk-estimator-doc-link:hover,\n",
       ".sk-estimator-doc-link:hover {\n",
       "  /* unfitted */\n",
       "  background-color: var(--sklearn-color-unfitted-level-3);\n",
       "  color: var(--sklearn-color-background);\n",
       "  text-decoration: none;\n",
       "}\n",
       "\n",
       "div.sk-estimator.fitted:hover .sk-estimator-doc-link.fitted:hover,\n",
       ".sk-estimator-doc-link.fitted:hover,\n",
       "div.sk-label-container:hover .sk-estimator-doc-link.fitted:hover,\n",
       ".sk-estimator-doc-link.fitted:hover {\n",
       "  /* fitted */\n",
       "  background-color: var(--sklearn-color-fitted-level-3);\n",
       "  color: var(--sklearn-color-background);\n",
       "  text-decoration: none;\n",
       "}\n",
       "\n",
       "/* Span, style for the box shown on hovering the info icon */\n",
       ".sk-estimator-doc-link span {\n",
       "  display: none;\n",
       "  z-index: 9999;\n",
       "  position: relative;\n",
       "  font-weight: normal;\n",
       "  right: .2ex;\n",
       "  padding: .5ex;\n",
       "  margin: .5ex;\n",
       "  width: min-content;\n",
       "  min-width: 20ex;\n",
       "  max-width: 50ex;\n",
       "  color: var(--sklearn-color-text);\n",
       "  box-shadow: 2pt 2pt 4pt #999;\n",
       "  /* unfitted */\n",
       "  background: var(--sklearn-color-unfitted-level-0);\n",
       "  border: .5pt solid var(--sklearn-color-unfitted-level-3);\n",
       "}\n",
       "\n",
       ".sk-estimator-doc-link.fitted span {\n",
       "  /* fitted */\n",
       "  background: var(--sklearn-color-fitted-level-0);\n",
       "  border: var(--sklearn-color-fitted-level-3);\n",
       "}\n",
       "\n",
       ".sk-estimator-doc-link:hover span {\n",
       "  display: block;\n",
       "}\n",
       "\n",
       "/* \"?\"-specific style due to the `<a>` HTML tag */\n",
       "\n",
       "#sk-container-id-2 a.estimator_doc_link {\n",
       "  float: right;\n",
       "  font-size: 1rem;\n",
       "  line-height: 1em;\n",
       "  font-family: monospace;\n",
       "  background-color: var(--sklearn-color-background);\n",
       "  border-radius: 1rem;\n",
       "  height: 1rem;\n",
       "  width: 1rem;\n",
       "  text-decoration: none;\n",
       "  /* unfitted */\n",
       "  color: var(--sklearn-color-unfitted-level-1);\n",
       "  border: var(--sklearn-color-unfitted-level-1) 1pt solid;\n",
       "}\n",
       "\n",
       "#sk-container-id-2 a.estimator_doc_link.fitted {\n",
       "  /* fitted */\n",
       "  border: var(--sklearn-color-fitted-level-1) 1pt solid;\n",
       "  color: var(--sklearn-color-fitted-level-1);\n",
       "}\n",
       "\n",
       "/* On hover */\n",
       "#sk-container-id-2 a.estimator_doc_link:hover {\n",
       "  /* unfitted */\n",
       "  background-color: var(--sklearn-color-unfitted-level-3);\n",
       "  color: var(--sklearn-color-background);\n",
       "  text-decoration: none;\n",
       "}\n",
       "\n",
       "#sk-container-id-2 a.estimator_doc_link.fitted:hover {\n",
       "  /* fitted */\n",
       "  background-color: var(--sklearn-color-fitted-level-3);\n",
       "}\n",
       "</style><div id=\"sk-container-id-2\" class=\"sk-top-container\"><div class=\"sk-text-repr-fallback\"><pre>GradientBoostingClassifier(learning_rate=0.05, loss=&#x27;exponential&#x27;,\n",
       "                           min_samples_leaf=2, min_samples_split=4,\n",
       "                           n_estimators=1000, random_state=42, subsample=0.75)</pre><b>In a Jupyter environment, please rerun this cell to show the HTML representation or trust the notebook. <br />On GitHub, the HTML representation is unable to render, please try loading this page with nbviewer.org.</b></div><div class=\"sk-container\" hidden><div class=\"sk-item\"><div class=\"sk-estimator fitted sk-toggleable\"><input class=\"sk-toggleable__control sk-hidden--visually\" id=\"sk-estimator-id-2\" type=\"checkbox\" checked><label for=\"sk-estimator-id-2\" class=\"sk-toggleable__label fitted sk-toggleable__label-arrow\"><div><div>GradientBoostingClassifier</div></div><div><a class=\"sk-estimator-doc-link fitted\" rel=\"noreferrer\" target=\"_blank\" href=\"https://scikit-learn.org/1.6/modules/generated/sklearn.ensemble.GradientBoostingClassifier.html\">?<span>Documentation for GradientBoostingClassifier</span></a><span class=\"sk-estimator-doc-link fitted\">i<span>Fitted</span></span></div></label><div class=\"sk-toggleable__content fitted\"><pre>GradientBoostingClassifier(learning_rate=0.05, loss=&#x27;exponential&#x27;,\n",
       "                           min_samples_leaf=2, min_samples_split=4,\n",
       "                           n_estimators=1000, random_state=42, subsample=0.75)</pre></div> </div></div></div></div>"
      ],
      "text/plain": [
       "GradientBoostingClassifier(learning_rate=0.05, loss='exponential',\n",
       "                           min_samples_leaf=2, min_samples_split=4,\n",
       "                           n_estimators=1000, random_state=42, subsample=0.75)"
      ]
     },
     "execution_count": 67,
     "metadata": {},
     "output_type": "execute_result"
    }
   ],
   "source": [
    "final_model.fit(prod_training_df,prod_training_labels['target'])"
   ]
  },
  {
   "cell_type": "code",
   "execution_count": 68,
   "metadata": {
    "id": "iIMYYsRd3juF"
   },
   "outputs": [],
   "source": [
    "pred_against_cids['predictions'] = final_model.predict(prod_pred_df)\n",
    "pred_against_cids['probablities'] = final_model.predict_proba(prod_pred_df)[:,1]"
   ]
  },
  {
   "cell_type": "code",
   "execution_count": 69,
   "metadata": {
    "colab": {
     "base_uri": "https://localhost:8080/",
     "height": 178
    },
    "id": "aJTq5ygt5GYs",
    "outputId": "7321c69e-7a6a-4fba-ea90-a39acbec2ea2"
   },
   "outputs": [
    {
     "data": {
      "text/plain": [
       "predictions\n",
       "0.0    1519\n",
       "1.0      35\n",
       "Name: count, dtype: int64"
      ]
     },
     "execution_count": 69,
     "metadata": {},
     "output_type": "execute_result"
    }
   ],
   "source": [
    "pred_against_cids['predictions'].value_counts()"
   ]
  },
  {
   "cell_type": "code",
   "execution_count": 70,
   "metadata": {
    "id": "f1bp6ts43Rje"
   },
   "outputs": [
    {
     "data": {
      "text/plain": [
       "\"table_id = 'customer-marketing-analytics.customer_and_marketing_data_analysis_Models.subscription_predictions'\\npred_against_cids['timestamp'] = pd.Timestamp.now( )\\njobconfigs = bigquery.LoadJobConfig(autodetect=True,write_disposition='WRITE_APPEND')\\nres = bq_client.load_table_from_dataframe(pred_against_cids,table_id,job_config=jobconfigs)\""
      ]
     },
     "execution_count": 70,
     "metadata": {},
     "output_type": "execute_result"
    }
   ],
   "source": [
    "'''table_id = 'customer-marketing-analytics.customer_and_marketing_data_analysis_Models.subscription_predictions'\n",
    "pred_against_cids['timestamp'] = pd.Timestamp.now( )\n",
    "jobconfigs = bigquery.LoadJobConfig(autodetect=True,write_disposition='WRITE_APPEND')\n",
    "res = bq_client.load_table_from_dataframe(pred_against_cids,table_id,job_config=jobconfigs)'''"
   ]
  },
  {
   "cell_type": "code",
   "execution_count": 71,
   "metadata": {
    "tags": []
   },
   "outputs": [
    {
     "data": {
      "text/plain": [
       "\"table_id_acc = 'customer-marketing-analytics.customer_and_marketing_data_analysis_Models.subscription_model_Fold_Accuracy_Tracking'\\njobconfigs = bigquery.LoadJobConfig(autodetect=True,write_disposition='WRITE_APPEND')\\nresponse = bq_client.load_table_from_dataframe(accuracy_tracking,table_id_acc,job_config=jobconfigs)\""
      ]
     },
     "execution_count": 71,
     "metadata": {},
     "output_type": "execute_result"
    }
   ],
   "source": [
    "'''table_id_acc = 'customer-marketing-analytics.customer_and_marketing_data_analysis_Models.subscription_model_Fold_Accuracy_Tracking'\n",
    "jobconfigs = bigquery.LoadJobConfig(autodetect=True,write_disposition='WRITE_APPEND')\n",
    "response = bq_client.load_table_from_dataframe(accuracy_tracking,table_id_acc,job_config=jobconfigs)'''"
   ]
  }
 ],
 "metadata": {
  "colab": {
   "provenance": []
  },
  "environment": {
   "kernel": "conda-base-py",
   "name": "workbench-notebooks.m129",
   "type": "gcloud",
   "uri": "us-docker.pkg.dev/deeplearning-platform-release/gcr.io/workbench-notebooks:m129"
  },
  "kernelspec": {
   "display_name": "Python 3 (ipykernel)",
   "language": "python",
   "name": "conda-base-py"
  },
  "language_info": {
   "codemirror_mode": {
    "name": "ipython",
    "version": 3
   },
   "file_extension": ".py",
   "mimetype": "text/x-python",
   "name": "python",
   "nbconvert_exporter": "python",
   "pygments_lexer": "ipython3",
   "version": "3.10.16"
  }
 },
 "nbformat": 4,
 "nbformat_minor": 4
}
